{
  "nbformat": 4,
  "nbformat_minor": 0,
  "metadata": {
    "colab": {
      "provenance": [],
      "authorship_tag": "ABX9TyPsC8hiar832SRB7SZKmVDC",
      "include_colab_link": true
    },
    "kernelspec": {
      "name": "python3",
      "display_name": "Python 3"
    },
    "language_info": {
      "name": "python"
    }
  },
  "cells": [
    {
      "cell_type": "markdown",
      "metadata": {
        "id": "view-in-github",
        "colab_type": "text"
      },
      "source": [
        "<a href=\"https://colab.research.google.com/github/AlexSan1910/Consumo_API/blob/main/Consumo_API_Cota%C3%A7%C3%B5es_.ipynb\" target=\"_parent\"><img src=\"https://colab.research.google.com/assets/colab-badge.svg\" alt=\"Open In Colab\"/></a>"
      ]
    },
    {
      "cell_type": "markdown",
      "source": [
        "Exemplo"
      ],
      "metadata": {
        "id": "FNMCqqrrqr5s"
      }
    },
    {
      "cell_type": "code",
      "execution_count": null,
      "metadata": {
        "id": "pF5u4eSbqm9p"
      },
      "outputs": [],
      "source": [
        "# Importando bibliotecas para consumo da API\n",
        "\n",
        "import requests\n",
        "import json"
      ]
    },
    {
      "cell_type": "code",
      "source": [
        "# Resgatando as informações da API e printando na tela\n",
        "\n",
        "cotacoes = requests.get('https://economia.awesomeapi.com.br/last/USD-BRL,EUR-BRL,BTC-BRL').json()\n",
        "print(cotacoes)"
      ],
      "metadata": {
        "colab": {
          "base_uri": "https://localhost:8080/"
        },
        "id": "rrZ5f-hSquZA",
        "outputId": "3676fc34-8e34-4061-bea2-2243ef35e98e"
      },
      "execution_count": null,
      "outputs": [
        {
          "output_type": "stream",
          "name": "stdout",
          "text": [
            "{'USDBRL': {'code': 'USD', 'codein': 'BRL', 'name': 'Dólar Americano/Real Brasileiro', 'high': '5.4156', 'low': '5.384', 'varBid': '-0.0137', 'pctChange': '-0.25', 'bid': '5.398', 'ask': '5.3993', 'timestamp': '1718284377', 'create_date': '2024-06-13 10:12:57'}, 'EURBRL': {'code': 'EUR', 'codein': 'BRL', 'name': 'Euro/Real Brasileiro', 'high': '5.8418', 'low': '5.7735', 'varBid': '-0.0103', 'pctChange': '-0.18', 'bid': '5.8248', 'ask': '5.8328', 'timestamp': '1718284354', 'create_date': '2024-06-13 10:12:34'}, 'BTCBRL': {'code': 'BTC', 'codein': 'BRL', 'name': 'Bitcoin/Real Brasileiro', 'high': '378500', 'low': '364501', 'varBid': '-5117', 'pctChange': '-1.37', 'bid': '367760', 'ask': '367789', 'timestamp': '1718284381', 'create_date': '2024-06-13 10:13:01'}}\n"
          ]
        }
      ]
    },
    {
      "cell_type": "code",
      "source": [
        "cotacao_dolar = cotacoes['USDBRL']['bid']\n",
        "cotacao_euro = cotacoes['EURBRL']['bid']\n",
        "cotacao_btc = cotacoes['BTCBRL']['bid']\n",
        "\n",
        "print(\"Dolar: \" + str(cotacao_dolar))2\n",
        "print(\"Euro: \" + str(cotacao_euro))\n",
        "print(\"Bitcoin: \" + str(cotacao_btc))"
      ],
      "metadata": {
        "colab": {
          "base_uri": "https://localhost:8080/"
        },
        "id": "Vtq-J99N0G0T",
        "outputId": "e1fd4c0c-0924-4f1f-d5c6-85ac5b3ffd64"
      },
      "execution_count": null,
      "outputs": [
        {
          "output_type": "stream",
          "name": "stdout",
          "text": [
            "Dolar: 5.398\n",
            "Euro: 5.8248\n",
            "Bitcoin: 367760\n"
          ]
        }
      ]
    },
    {
      "cell_type": "code",
      "source": [],
      "metadata": {
        "id": "aQjjZpu-0aAp"
      },
      "execution_count": null,
      "outputs": []
    }
  ]
}