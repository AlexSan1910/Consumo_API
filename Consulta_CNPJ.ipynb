{
  "nbformat": 4,
  "nbformat_minor": 0,
  "metadata": {
    "colab": {
      "provenance": [],
      "authorship_tag": "ABX9TyPSLMHshOH/mpiEJlPSvQ+/",
      "include_colab_link": true
    },
    "kernelspec": {
      "name": "python3",
      "display_name": "Python 3"
    },
    "language_info": {
      "name": "python"
    }
  },
  "cells": [
    {
      "cell_type": "markdown",
      "metadata": {
        "id": "view-in-github",
        "colab_type": "text"
      },
      "source": [
        "<a href=\"https://colab.research.google.com/github/AlexSan1910/Consumo_API/blob/main/Consulta_CNPJ.ipynb\" target=\"_parent\"><img src=\"https://colab.research.google.com/assets/colab-badge.svg\" alt=\"Open In Colab\"/></a>"
      ]
    },
    {
      "cell_type": "code",
      "execution_count": null,
      "metadata": {
        "id": "fs6eyvLRljFX"
      },
      "outputs": [],
      "source": [
        "# Importando bibliotecas para consumo da API\n",
        "\n",
        "import requests\n",
        "import json\n",
        "import openpyxl"
      ]
    },
    {
      "cell_type": "code",
      "source": [
        "# Definindo os parametros de acesso a API\n",
        "headers = {\n",
        "    \"Authorization\": \"740b63d1-450c-4afe-ad30-6d45fcea58af-1cdf8b84-c4a0-4add-aadd-1bc697a0dccb\",\n",
        "    \"Content-Type\": \"application/json\"\n",
        "}\n",
        "\n",
        "# Consultando os dados da API\n",
        "consulta_cnpj = requests.get('https://api.cnpja.com/office/37335118000180', headers=headers).json()\n",
        "\n",
        "# Mostrando os valores que a API retorna\n",
        "print(consulta_cnpj)"
      ],
      "metadata": {
        "colab": {
          "base_uri": "https://localhost:8080/"
        },
        "id": "5akVIi28l_QK",
        "outputId": "d9b8a0be-cfe4-4dc4-8a46-89c43f91e027"
      },
      "execution_count": null,
      "outputs": [
        {
          "output_type": "stream",
          "name": "stdout",
          "text": [
            "{'updated': '2024-06-13T01:44:01.000Z', 'taxId': '37335118000180', 'company': {'id': 37335118, 'name': 'CNPJA TECNOLOGIA LTDA', 'equity': 1000, 'nature': {'id': 2062, 'text': 'Sociedade Empresária Limitada'}, 'size': {'id': 1, 'acronym': 'ME', 'text': 'Microempresa'}, 'members': [{'since': '2020-06-05', 'role': {'id': 49, 'text': 'Sócio-Administrador'}, 'person': {'id': '0ee5ad51-e58d-4400-a68a-1ae0aaf394c6', 'name': 'Etienne Rodrigues Bechara', 'type': 'NATURAL', 'taxId': '***538418**', 'age': '31-40'}}, {'since': '2020-06-05', 'role': {'id': 22, 'text': 'Sócio'}, 'person': {'id': '84cda86b-7b46-4be3-9b2e-4c374da9879b', 'name': 'Camila Pedrosa Alves', 'type': 'NATURAL', 'taxId': '***708668**', 'age': '31-40'}}]}, 'alias': 'Cnpja', 'founded': '2020-06-05', 'head': True, 'statusDate': '2020-06-05', 'status': {'id': 2, 'text': 'Ativa'}, 'address': {'municipality': 3550308, 'street': 'Avenida Brig Faria Lima', 'number': '2369', 'details': 'Conj 1102', 'district': 'Jardim Paulistano', 'city': 'São Paulo', 'state': 'SP', 'zip': '01452922', 'country': {'id': 76, 'name': 'Brasil'}}, 'phones': [{'area': '41', 'number': '96869828'}], 'emails': [{'address': 'meucnpj@contabilizei.com.br', 'domain': 'contabilizei.com.br'}], 'mainActivity': {'id': 6311900, 'text': 'Tratamento de dados, provedores de serviços de aplicação e serviços de hospedagem na internet'}, 'sideActivities': [{'id': 6201501, 'text': 'Desenvolvimento de programas de computador sob encomenda'}, {'id': 6201502, 'text': 'Web design'}, {'id': 6202300, 'text': 'Desenvolvimento e licenciamento de programas de computador customizáveis'}, {'id': 6203100, 'text': 'Desenvolvimento e licenciamento de programas de computador não-customizáveis'}, {'id': 6204000, 'text': 'Consultoria em tecnologia da informação'}, {'id': 6209100, 'text': 'Suporte técnico, manutenção e outros serviços em tecnologia da informação'}, {'id': 6319400, 'text': 'Portais, provedores de conteúdo e outros serviços de informação na internet'}, {'id': 6399200, 'text': 'Outras atividades de prestação de serviços de informação não especificadas anteriormente'}, {'id': 8599603, 'text': 'Treinamento em informática'}]}\n"
          ]
        }
      ]
    },
    {
      "cell_type": "code",
      "source": [
        "# Colocando cada informação que precisamos em uma variavel\n",
        "\n",
        "nome_empresa = consulta_cnpj['company']['name']\n",
        "natureza_empresa = consulta_cnpj['company']['nature']['text']\n",
        "porte_empresa = consulta_cnpj['company']['size']['text']\n",
        "\n",
        "# Criando uma lista com os respectivos dados resgatados da API\n",
        "dados_empresa = [nome_empresa, natureza_empresa, porte_empresa]\n",
        "print(dados_empresa)"
      ],
      "metadata": {
        "colab": {
          "base_uri": "https://localhost:8080/"
        },
        "id": "SNvF2UyzmP_k",
        "outputId": "7833a44b-a108-41b4-e8e5-2874b259a429"
      },
      "execution_count": null,
      "outputs": [
        {
          "output_type": "stream",
          "name": "stdout",
          "text": [
            "['CNPJA TECNOLOGIA LTDA', 'Sociedade Empresária Limitada', 'Microempresa']\n"
          ]
        }
      ]
    },
    {
      "cell_type": "code",
      "source": [
        "# Abrindo o arquivo Excel (modo leitura e gravação)\n",
        "wb = openpyxl.load_workbook('C:\\Users\\u_tec05\\Downloads\\cnpj_atualizado.xlsx', data_only=True)\n",
        "ws = wb.active  # Acessando a planilha ativa\n",
        "\n",
        "# Definindo variáveis auxiliares\n",
        "linha_inicial = 2  # Linha inicial para gravação de dados (a partir da 2)\n",
        "coluna_inicial = 1  # Coluna inicial para gravação de dados (A)\n",
        "count = 0  # Contador para iteração nos dados\n",
        "\n",
        "# Loop para iterar nos dados da empresa\n",
        "for item in range(len(dados_empresa)):\n",
        "    valor = dados_empresa[count]\n",
        "\n",
        "    # Acessando a célula e escrevendo o valor\n",
        "    celula = ws.cell(row=linha_inicial, column=coluna_inicial + count)\n",
        "    celula.value = valor\n",
        "\n",
        "    count += 1\n",
        "\n",
        "# Salvando o arquivo Excel (modo gravação)\n",
        "wb.save('C:\\Users\\u_tec05\\Downloads\\cnpj_atualizado.xlsx')"
      ],
      "metadata": {
        "id": "vPGpDLk9t4Go"
      },
      "execution_count": null,
      "outputs": []
    },
    {
      "cell_type": "code",
      "source": [],
      "metadata": {
        "id": "XMMwcwzPuQRI"
      },
      "execution_count": null,
      "outputs": []
    }
  ]
}