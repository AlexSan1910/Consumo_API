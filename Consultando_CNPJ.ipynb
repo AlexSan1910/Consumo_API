{
  "nbformat": 4,
  "nbformat_minor": 0,
  "metadata": {
    "colab": {
      "provenance": [],
      "authorship_tag": "ABX9TyOTGRsgkGbty0ZjdZoxVbqU",
      "include_colab_link": true
    },
    "kernelspec": {
      "name": "python3",
      "display_name": "Python 3"
    },
    "language_info": {
      "name": "python"
    }
  },
  "cells": [
    {
      "cell_type": "markdown",
      "metadata": {
        "id": "view-in-github",
        "colab_type": "text"
      },
      "source": [
        "<a href=\"https://colab.research.google.com/github/AlexSan1910/Consumo_API/blob/main/Consultando_CNPJ.ipynb\" target=\"_parent\"><img src=\"https://colab.research.google.com/assets/colab-badge.svg\" alt=\"Open In Colab\"/></a>"
      ]
    },
    {
      "cell_type": "markdown",
      "source": [
        "A intenção dessa automação é buscar duas bases de dados, onde uma base de dados possui informações que já existem no banco de uma empresa, e a outra base são informações misturadas. Objetivo principal é buscar o CNPJ dessas duas listas, fazer um depara entre elas, e buscar apenas os cnpj que não esão no banco da empresa e consultar todas as informações dela em uma API.\n",
        "\n",
        "Com esses dados, seria possivel identificar potenciais clientes para a empresa. Porem para todo esse processo acontecer, existe diversas etapas que devem ser percorridas para tratamento dessas duas bases, e no final salvar em uma terceira base de dados no google drive, para posteriormente se conectar com um power B.I e a partir do relatorio ter algumas analises sobre protenciais estabelecimentos."
      ],
      "metadata": {
        "id": "H8jEbXFPIo-F"
      }
    },
    {
      "cell_type": "markdown",
      "source": [
        "**INSTALANDO PACOTES NECESSARIOS LOCALMENTE NA MAQUINA VIRTUAL**"
      ],
      "metadata": {
        "id": "I6qDu7W2J12z"
      }
    },
    {
      "cell_type": "code",
      "execution_count": null,
      "metadata": {
        "id": "GJ4zge21IgL_"
      },
      "outputs": [],
      "source": [
        "!pip install selenium\n",
        "!pip install webdriver_manager\n",
        "!pip install pandas\n",
        "!pip install requests\n",
        "!pip install json\n",
        "!pip install time\n",
        "!pip install os\n",
        "!pip install pyspark"
      ]
    },
    {
      "cell_type": "markdown",
      "source": [
        "**INSTALANDO TODAS AS BIBLIOTECAS NECESSARIAS PARA O FUNCIONAMENTO DO CODIGO**"
      ],
      "metadata": {
        "id": "whYHEbrFKBf2"
      }
    },
    {
      "cell_type": "code",
      "source": [
        "# importação bibliotecas\n",
        "from selenium import webdriver\n",
        "from selenium.webdriver.common.by import By\n",
        "from selenium.webdriver.common.action_chains import ActionChains\n",
        "from selenium.webdriver.support.ui import Select\n",
        "from datetime import datetime, timedelta\n",
        "import os\n",
        "import sys\n",
        "import pandas as pd\n",
        "import time\n",
        "from webdriver_manager.chrome import ChromeDriverManager\n",
        "from selenium.webdriver.chrome.service import Service as ChromeService\n",
        "import numpy as np\n",
        "import math\n",
        "import re\n",
        "import datetime\n",
        "from google.colab import drive\n",
        "import requests\n",
        "import pyspark\n",
        "from pyspark.sql import SparkSession\n",
        "from pyspark.sql import SparkSession\n",
        "from pyspark.sql.types import StructType, StructField, StringType\n",
        "import openpyxl"
      ],
      "metadata": {
        "id": "T4MbsdUuJ8l7"
      },
      "execution_count": 2,
      "outputs": []
    },
    {
      "cell_type": "markdown",
      "source": [
        "**ENTRANDO NO GOOGLE DRIVE, BUSCANDO CADA UM DOS ARQUIVOS E DEFININDO SEUS CAMINHOS**"
      ],
      "metadata": {
        "id": "u8vePqiSKG4B"
      }
    },
    {
      "cell_type": "code",
      "source": [
        "# Autenticação com o google drive quando necessario\n",
        "drive.mount('/content/drive')\n",
        "\n",
        "# Caminhos dos arquivos no Google Drive\n",
        "caminho_infox = \"/content/drive/MyDrive/base_dados/infox.xlsx\"\n",
        "caminho_adq = \"/content/drive/MyDrive/base_dados/adq.xlsx\"\n",
        "\n",
        "# Criando o objeto SparkSession\n",
        "spark = SparkSession.builder.appName(\"Exemplo DataFrame\").getOrCreate()\n",
        "\n",
        "# Ler os arquivos XLSX do Google Drive\n",
        "df_infox = pd.read_excel(caminho_infox)\n",
        "df_adq = pd.read_excel(caminho_adq)"
      ],
      "metadata": {
        "id": "EnPSh7gpKEXj"
      },
      "execution_count": null,
      "outputs": []
    },
    {
      "cell_type": "markdown",
      "source": [
        "# **EFETUANDO TRATAMENTO DOS DADOS**"
      ],
      "metadata": {
        "id": "F_XP2B0MKO8s"
      }
    },
    {
      "cell_type": "markdown",
      "source": [
        "Todo lugar que possui valor nullo, será adicionado 0\n",
        "\n",
        "\n"
      ],
      "metadata": {
        "id": "crjMAODiKT1C"
      }
    },
    {
      "cell_type": "code",
      "source": [
        "# Substituindo todos os valores nulos por 0. pois para mudar o tipo primitivo da coluna CNPJ por inteiro é necessario retirar todos os valores nulos\n",
        "df_infox.fillna(0, inplace=True)\n",
        "df_adq.fillna(0, inplace=True)"
      ],
      "metadata": {
        "id": "xyKVTRmmKXPw"
      },
      "execution_count": null,
      "outputs": []
    },
    {
      "cell_type": "code",
      "source": [
        "# Criar as listas de CNPJs com a coluna CNPJ de cada um dos arquivos\n",
        "lista_infox = df_infox['CNPJ'].tolist()\n",
        "lista_adq = df_adq['CNPJ'].tolist()\n",
        "\n",
        "# mostrando os valores distintos da coluna CNPJ de cada um dos df\n",
        "print(\"Valores Unicos:\")\n",
        "print(df_adq[\"CNPJ\"].nunique())\n",
        "print(df_infox[\"CNPJ\"].nunique())\n",
        "\n",
        "print(\"\\nExemplos de cada lista:\")\n",
        "print(lista_infox[:5])\n",
        "print(lista_adq[:5])"
      ],
      "metadata": {
        "id": "eWpZpYH3KbGd"
      },
      "execution_count": null,
      "outputs": []
    },
    {
      "cell_type": "markdown",
      "source": [
        "adicionando em um dataframe apenas os cnpj das duas base de dados, tanto do crm\n",
        "quanto das adquirentes\n"
      ],
      "metadata": {
        "id": "k7doeadiKmRa"
      }
    },
    {
      "cell_type": "code",
      "source": [
        "# criando função que transforma as listas em strings\n",
        "def listaParaString(lista):\n",
        "  lista_tratados = []\n",
        "  for cnpj in lista:\n",
        "    cnpj = str(cnpj)\n",
        "    lista_tratados.append(cnpj)\n",
        "\n",
        "  return lista_tratados\n",
        "\n",
        "lista_infox = listaParaString(lista_infox)\n",
        "lista_adq = listaParaString(lista_adq)\n",
        "\n",
        "print(lista_infox[:5])\n",
        "print(lista_adq[:5])"
      ],
      "metadata": {
        "id": "3w2R1bDiKmz5"
      },
      "execution_count": null,
      "outputs": []
    },
    {
      "cell_type": "code",
      "source": [
        "# Criando função que faz padronização dos cnpj tirando \".0\"\n",
        "# Para que cada um dos cnpj's possam se transformar em int, porque do jeito que estava antes estava como float\n",
        "def padronizandoCnpj(lista):\n",
        "  lista_tratados = []\n",
        "  for cnpj in lista:\n",
        "    cnpj = cnpj[:-2]\n",
        "    lista_tratados.append(cnpj)\n",
        "\n",
        "  return lista_tratados\n",
        "\n",
        "lista_adq = padronizandoCnpj(lista_adq)\n",
        "\n",
        "print(lista_infox[:5])\n",
        "print(lista_adq[:5])"
      ],
      "metadata": {
        "id": "xwiC-TjwKsy5"
      },
      "execution_count": null,
      "outputs": []
    },
    {
      "cell_type": "markdown",
      "source": [
        "**Preenchendo os CNPJs com zeros à esquerda para garantir 14 dígitos. Da lista da Mega**"
      ],
      "metadata": {
        "id": "iL0KZFq0KvJq"
      }
    },
    {
      "cell_type": "code",
      "source": [
        "# Criando função que completa com zeros a esquerda os cnpj o suficiente até completar 14 digitos\n",
        "def completandoCnpj(lista):\n",
        "  lista_tratados = []\n",
        "  for cnpj in lista:\n",
        "    cnpj = str(cnpj).zfill(14) # Adiciona zeros á esquerda até completar 14 digitos\n",
        "    lista_tratados.append(cnpj)\n",
        "\n",
        "  return lista_tratados\n",
        "\n",
        "lista_infox = completandoCnpj(lista_infox)\n",
        "lista_adq = completandoCnpj(lista_adq)\n",
        "\n",
        "print(lista_infox[:5])\n",
        "print(lista_adq[:5])"
      ],
      "metadata": {
        "id": "d3zkRLkDKvk3"
      },
      "execution_count": null,
      "outputs": []
    },
    {
      "cell_type": "markdown",
      "source": [
        "Fazendo depara de quais cnpj existe na base de dados das adquirentes que não existe na base de dados do CRM e colocando em um dataframe somente os CNPJs que não estão nessa base de dados"
      ],
      "metadata": {
        "id": "68jJob2_KyK9"
      }
    },
    {
      "cell_type": "code",
      "source": [
        "# Encontrar os CNPJs da listaAdq que não estão na listaInfox e colocar dentro da variavel cnpjs_nao_encontrados\n",
        "def comparacaoListas(lista1, lista2):\n",
        "  lista_tratada = list(set(lista1) - set(lista2))\n",
        "\n",
        "  return lista_tratada\n",
        "\n",
        "cnpjs_nao_encontrados = comparacaoListas(lista_adq, lista_infox)"
      ],
      "metadata": {
        "id": "YY3utKcYKzjs"
      },
      "execution_count": null,
      "outputs": []
    },
    {
      "cell_type": "code",
      "source": [
        "# função para encontrar valores unicos de uma lista\n",
        "def valoresUnicos(lista):\n",
        "  lista_tratada = []\n",
        "  for item in lista:\n",
        "    if item not in lista_tratada:\n",
        "      lista_tratada.append(item)\n",
        "  return lista_tratada\n",
        "\n",
        "\n",
        "print(f\"Quantidade da lista: {len(cnpjs_nao_encontrados)}\")\n",
        "print(f\"Valores Unicos: {len(valoresUnicos(cnpjs_nao_encontrados))}\")\n",
        "print(f\"Lista: {cnpjs_nao_encontrados}\")"
      ],
      "metadata": {
        "id": "feb9KDrJK2MP"
      },
      "execution_count": null,
      "outputs": []
    },
    {
      "cell_type": "markdown",
      "source": [
        "Criando uma estrutura de repetição, no qual irá fazer o consumo de cada cnpj na API da Machine System, que trará todas as informações do CNPJ e irá colocar no em uma planilha no excel."
      ],
      "metadata": {
        "id": "2g8-tmm6K1ul"
      }
    },
    {
      "cell_type": "code",
      "source": [
        "vetor_cnpj_nao_encontrados = []\n",
        "# Loop para consultar os CNPJs e salvar os dados no DataFrame\n",
        "for cnpj in cnpjs_nao_encontrados:\n",
        "    try:\n",
        "      # caminho para colocar o dados tratados\n",
        "      caminho_excel_saida = '/content/drive/MyDrive/base_dados/base_tratada.xlsx'\n",
        "\n",
        "      # criando um dataframe com os dados da url acima em python\n",
        "      df_saida = pd.read_excel(caminho_excel_saida)\n",
        "\n",
        "      # lendo o dataframe do pandas no spark\n",
        "      df_saida_spark = spark.createDataFrame(df_saida)\n",
        "\n",
        "      time.sleep(20) # Aguardando 10 segundos para cada requisição\n",
        "\n",
        "      # Dados para a chamada cURL\n",
        "      token_api = \"token\"\n",
        "\n",
        "      # URL base\n",
        "      base_url = 'http://104.251.212.117/cnpj/validador.php'\n",
        "\n",
        "      # Parâmetros da requisição\n",
        "      data = {\n",
        "          'cnpj': cnpj,\n",
        "          'token': token_api\n",
        "      }\n",
        "\n",
        "      # Headers de aceitação para JSON\n",
        "      headers = {\n",
        "        'Accept': 'application/json',\n",
        "      }\n",
        "      # Realiza a requisição POST com headers de aceitação\n",
        "      resposta = requests.post(base_url, data=data, headers=headers).json()\n",
        "\n",
        "      cnpj_empresa = cnpj\n",
        "      data_abertura = resposta[\"abertura\"]\n",
        "      situacao_empresa = resposta[\"situacao\"]\n",
        "      tipo_empresa = resposta[\"tipo\"]\n",
        "      nome_fantasia = resposta[\"nome\"]\n",
        "      porte_empresa = resposta[\"porte\"]\n",
        "      natureza_juridica = resposta[\"natureza_juridica\"]\n",
        "      codigo_cnae_principal = resposta[\"atividade_principal\"][0][\"code\"]\n",
        "      nome_cnae_principal = resposta[\"atividade_principal\"][0][\"text\"]\n",
        "      codigo_cnae_secundario = resposta[\"atividades_secundarias\"][0][\"code\"]\n",
        "      nome_cnae_secundario = resposta[\"atividades_secundarias\"][0][\"text\"]\n",
        "      logradouro = resposta[\"logradouro\"]\n",
        "      numero = resposta[\"numero\"]\n",
        "      complemento = resposta[\"complemento\"]\n",
        "      municipio = resposta[\"municipio\"]\n",
        "      bairro = resposta[\"bairro\"]\n",
        "      uf = resposta[\"uf\"]\n",
        "      cep = resposta[\"cep\"]\n",
        "      email = resposta[\"email\"]\n",
        "      telefone = resposta[\"telefone\"]\n",
        "      data_situacao = resposta['data_situacao']\n",
        "      ultima_atualizacao = resposta['ultima_atualizacao']\n",
        "      status = resposta['status']\n",
        "      fantasia = resposta['fantasia']\n",
        "      efr = resposta['efr']\n",
        "      motivo_situacao = resposta['motivo_situacao']\n",
        "      situacao_especial = resposta['situacao_especial']\n",
        "      data_situacao_especial = resposta['data_situacao_especial']\n",
        "      capital_social = resposta['capital_social']\n",
        "      extra = resposta['extra']\n",
        "\n",
        "      # printar todas as variaveis acima\n",
        "      print(f'''\n",
        "          CNPJ {cnpj_empresa} Existente!\n",
        "      ''')\n",
        "\n",
        "      # Criando base de dados para o novo dataframe que será criado\n",
        "      novos_dados = [\n",
        "          {\n",
        "              \"cnpj_empresa\": cnpj_empresa,\n",
        "              \"data_abertura\": data_abertura,\n",
        "              \"situacao_empresa\": situacao_empresa,\n",
        "              \"tipo_empresa\": tipo_empresa,\n",
        "              \"nome_fantasia\": nome_fantasia,\n",
        "              \"porte_empresa\": porte_empresa,\n",
        "              \"natureza_juridica\": natureza_juridica,\n",
        "              \"codigo_cnae_principal\": codigo_cnae_principal,\n",
        "              \"nome_cnae_principal\": nome_cnae_principal,\n",
        "              \"codigo_cnae_secundario\": codigo_cnae_secundario,\n",
        "              \"nome_cnae_secundario\": nome_cnae_secundario,\n",
        "              \"logradouro\": logradouro,\n",
        "              \"numero\": numero,\n",
        "              \"complemento\": complemento,\n",
        "              \"municipio\": municipio,\n",
        "              \"bairro\": bairro,\n",
        "              \"uf\": uf,\n",
        "              \"cep\": cep,\n",
        "              \"email\": email,\n",
        "              \"telefone\": telefone,\n",
        "              \"data_situacao\": data_situacao,\n",
        "              \"ultima_atualizacao\": ultima_atualizacao,\n",
        "              \"status\": status,\n",
        "              \"fantasia\": fantasia,\n",
        "              \"efr\": efr,\n",
        "              \"motivo_situacao\": motivo_situacao,\n",
        "              \"situacao_especial\": situacao_especial,\n",
        "              \"data_situacao_especial\": data_situacao_especial,\n",
        "              \"capital_social\": capital_social,\n",
        "              \"extra\": extra\n",
        "          }\n",
        "      ]\n",
        "\n",
        "      # definindo o tipo de cada um dos dados da base dados anterior\n",
        "      esquema = StructType([\n",
        "\n",
        "          StructField(\"cnpj_empresa\", StringType(), True),\n",
        "          StructField(\"data_abertura\", StringType(), True),\n",
        "          StructField(\"situacao_empresa\", StringType(), True),\n",
        "          StructField(\"tipo_empresa\", StringType(), True),\n",
        "          StructField(\"nome_fantasia\", StringType(), True),\n",
        "          StructField(\"porte_empresa\", StringType(), True),\n",
        "          StructField(\"natureza_juridica\", StringType(), True),\n",
        "          StructField(\"codigo_cnae_principal\", StringType(), True),\n",
        "          StructField(\"nome_cnae_principal\", StringType(), True),\n",
        "          StructField(\"codigo_cnae_secundario\", StringType(), True),\n",
        "          StructField(\"nome_cnae_secundario\", StringType(), True),\n",
        "          StructField(\"logradouro\", StringType(), True),\n",
        "          StructField(\"numero\", StringType(), True),\n",
        "          StructField(\"complemento\", StringType(), True),\n",
        "          StructField(\"municipio\", StringType(), True),\n",
        "          StructField(\"bairro\", StringType(), True),\n",
        "          StructField(\"uf\", StringType(), True),\n",
        "          StructField(\"cep\", StringType(), True),\n",
        "          StructField(\"email\", StringType(), True),\n",
        "          StructField(\"telefone\", StringType(), True),\n",
        "          StructField(\"data_situacao\", StringType(), True),\n",
        "          StructField(\"ultima_atualizacao\", StringType(), True),\n",
        "          StructField(\"status\", StringType(), True),\n",
        "          StructField(\"fantasia\", StringType(), True),\n",
        "          StructField(\"efr\", StringType(), True),\n",
        "          StructField(\"motivo_situacao\", StringType(), True),\n",
        "          StructField(\"situacao_especial\", StringType(), True),\n",
        "          StructField(\"data_situacao_especial\", StringType(), True),\n",
        "          StructField(\"capital_social\", StringType(), True),\n",
        "          StructField(\"extra\", StringType(), True)\n",
        "      ])\n",
        "\n",
        "      # criando um novo dataframe com os dados que foi resgatado na API\n",
        "      df_novo = spark.createDataFrame(novos_dados, schema=esquema)\n",
        "\n",
        "      # unindo os dois dataframe, o atual que já existia com o novo criado agora\n",
        "      df_unido = df_saida_spark.union(df_novo)\n",
        "\n",
        "      # Convertendo o dataframe do spark para pandas\n",
        "      df_pandas = df_unido.toPandas()\n",
        "\n",
        "      # Salvando os dados no caminho dos dados tratados\n",
        "      df_pandas.to_excel(caminho_excel_saida, index=False)\n",
        "\n",
        "    except:\n",
        "      print(f'CNPJ: {cnpj} NÃO EXISTE!')\n",
        "      vetor_cnpj_nao_encontrados.append(cnpj)\n",
        "\n",
        "print(vetor_cnpj_nao_encontrados)\n",
        "print(f\"A quantidade de CNPJ não encontrados foi de {len(vetor_cnpj_nao_encontrados)} de {len(cnpjs_nao_encontrados)}\")"
      ],
      "metadata": {
        "id": "kbdSZ3_LK6xv"
      },
      "execution_count": null,
      "outputs": []
    }
  ]
}